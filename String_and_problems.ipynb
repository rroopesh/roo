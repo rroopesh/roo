{
  "nbformat": 4,
  "nbformat_minor": 0,
  "metadata": {
    "colab": {
      "provenance": [],
      "authorship_tag": "ABX9TyPgK+zMGhBTNH31p6ky2ZKt",
      "include_colab_link": true
    },
    "kernelspec": {
      "name": "python3",
      "display_name": "Python 3"
    },
    "language_info": {
      "name": "python"
    }
  },
  "cells": [
    {
      "cell_type": "markdown",
      "metadata": {
        "id": "view-in-github",
        "colab_type": "text"
      },
      "source": [
        "<a href=\"https://colab.research.google.com/github/rroopesh/roo/blob/master/String_and_problems.ipynb\" target=\"_parent\"><img src=\"https://colab.research.google.com/assets/colab-badge.svg\" alt=\"Open In Colab\"/></a>"
      ]
    },
    {
      "cell_type": "code",
      "execution_count": null,
      "metadata": {
        "id": "_YlGexXNFEWV"
      },
      "outputs": [],
      "source": [
        "print(\"Strings\")\n",
        "print(48==\"0\")\n",
        "#python allows ASCII and unicode like emojies\n",
        "\n",
        "print(\"hina\\nclass\") #\\n new line\n",
        "print(\"hina\\tclass\") #\\t new tab space\n",
        "\n",
        "ord('A') # To check unicode value assigned\n",
        "\n",
        "\n",
        "# Take a String as an input print all the characters in a new line\n",
        "input = 'chandan'\n",
        "for i in input:\n",
        "    print(i)\n",
        "\n",
        "#print everything in same line\n",
        "input = 'chandan'\n",
        "for i in input:\n",
        "    print(i, end = ' ')\n",
        "\n",
        "# print the first and last character of my string\n",
        "# we have indexing in list\n",
        "#       01234567 or from reverise is -8-7-6-5-4-3-2-1\n",
        "name = 'rroopesh'\n",
        "print(name[0])\n",
        "print(name[-1])\n",
        "print(name[0], name[-1])\n",
        "\n",
        "# How to check total number of characters present in my string\n",
        "\n",
        "name = 'rroopesh'\n",
        "len(name)\n",
        "\n",
        "print(len(name*3))\n",
        "\n",
        "#concatination\n",
        "a = 'haha'\n",
        "\n",
        "a+a+a #'hahahahahaha'\n",
        "\n",
        "a*5 #'hahahahahahahahahaha'\n",
        "\n",
        "#String Slicing\n",
        "\n",
        "lst = [1,2,3,4,5]\n",
        "lst[1:3] # In list start from 0 so 1 is 2 , end value is exclusive so its 3\n",
        "\n",
        "\n",
        "s = \"my name is sanchi\"\n",
        "#first 10 characters\n",
        "s[:10] # Here start=0 , end = 9\n",
        "#'my name is'\n",
        "\n",
        "#last 5 characters\n",
        "s[-5:] #default it will take length of the string\n",
        "\n",
        "#print reverse of a string\n",
        "s[::-1]\n",
        "\n",
        "#palindrome\n",
        "b = 'madam'\n",
        "b[::-1]\n",
        "\n",
        "#Give a string we have to tell wheather the given string is palindrome or not \"Everything in lowercase\"\n",
        "\n",
        "s = 'rroopesh'\n",
        "print(s==s[::-1])\n",
        "t = 'level'\n",
        "print(t == t[::-1])\n",
        "\n",
        "#Mutability\n",
        "#change values in string\n",
        "\n",
        "l = [\"Hina\", \"sharama\"]\n",
        "print(l[0][-1])\n",
        "\n",
        "\n",
        "#problem Take a string as input print ascii/unicode value of that string\n",
        "\n",
        "name = \"jeffthomasan\"\n",
        "for i in name:\n",
        "    print( i,\"\\t\", ord(i))\n",
        "\n",
        "\n",
        "\n"
      ]
    },
    {
      "cell_type": "markdown",
      "source": [
        "# New Section"
      ],
      "metadata": {
        "id": "X6XOSO7jh3Ij"
      }
    },
    {
      "cell_type": "markdown",
      "source": [
        "# New Section"
      ],
      "metadata": {
        "id": "ixEcTiFTh34A"
      }
    },
    {
      "cell_type": "code",
      "source": [
        "#or input()\n",
        "\n",
        "user_input = input()\n",
        "print(user_input)"
      ],
      "metadata": {
        "colab": {
          "base_uri": "https://localhost:8080/"
        },
        "id": "Fy38onJpFJQD",
        "outputId": "88207f38-2688-488f-d4ce-109ee6eec86c"
      },
      "execution_count": null,
      "outputs": [
        {
          "output_type": "stream",
          "name": "stdout",
          "text": [
            "String as my input\n",
            "String as my input\n"
          ]
        }
      ]
    },
    {
      "cell_type": "markdown",
      "source": [
        "# problem : given a string , count the number of uppercase letters in it"
      ],
      "metadata": {
        "id": "-KGcDJ-QJdRk"
      }
    },
    {
      "cell_type": "code",
      "source": [
        "l = \"IndiaRocks\"\n",
        "count = 0\n",
        "for i in l:\n",
        "  if i.isupper():\n",
        "    count = count + 1\n",
        "print(count)\n",
        "\n",
        "\n"
      ],
      "metadata": {
        "colab": {
          "base_uri": "https://localhost:8080/"
        },
        "id": "7DoNLtxgJcf6",
        "outputId": "d0eeae22-317d-4e2c-b249-ebfee43b1968"
      },
      "execution_count": null,
      "outputs": [
        {
          "output_type": "stream",
          "name": "stdout",
          "text": [
            "2\n"
          ]
        }
      ]
    },
    {
      "cell_type": "code",
      "source": [
        "l = \"IndiaRocks\"\n",
        "count = 0\n",
        "for i in l:\n",
        "  if i >= 'A' and i <= 'Z':\n",
        "    count = count + 1\n",
        "print(count)\n"
      ],
      "metadata": {
        "colab": {
          "base_uri": "https://localhost:8080/"
        },
        "id": "Ns678TmEKshX",
        "outputId": "ae993f07-0cb5-42bf-aa53-c53ac42c9675"
      },
      "execution_count": null,
      "outputs": [
        {
          "output_type": "stream",
          "name": "stdout",
          "text": [
            "2\n"
          ]
        }
      ]
    },
    {
      "cell_type": "markdown",
      "source": [
        "Count LowerCase"
      ],
      "metadata": {
        "id": "cktNyMwoLf5R"
      }
    },
    {
      "cell_type": "code",
      "source": [
        "l = \"IndiaRocks\"\n",
        "count = 0\n",
        "for i in l:\n",
        "  if i.islower():\n",
        "    count = count + 1\n",
        "print(count)\n"
      ],
      "metadata": {
        "colab": {
          "base_uri": "https://localhost:8080/"
        },
        "id": "pZvlH5aALW23",
        "outputId": "7b440256-c2f1-43f0-f3aa-85917f5f8494"
      },
      "execution_count": null,
      "outputs": [
        {
          "output_type": "stream",
          "name": "stdout",
          "text": [
            "8\n"
          ]
        }
      ]
    },
    {
      "cell_type": "markdown",
      "source": [
        "Convert everything in given string in lowercase"
      ],
      "metadata": {
        "id": "Wf-BlV3MLq1i"
      }
    },
    {
      "cell_type": "code",
      "source": [
        "l.lower()"
      ],
      "metadata": {
        "colab": {
          "base_uri": "https://localhost:8080/",
          "height": 36
        },
        "id": "dQ0KTY-_LfVc",
        "outputId": "9f1268b3-ec10-465e-e1a1-c38d415a9fee"
      },
      "execution_count": null,
      "outputs": [
        {
          "output_type": "execute_result",
          "data": {
            "text/plain": [
              "'indiarocks'"
            ],
            "application/vnd.google.colaboratory.intrinsic+json": {
              "type": "string"
            }
          },
          "metadata": {},
          "execution_count": 6
        }
      ]
    },
    {
      "cell_type": "code",
      "source": [
        "l.upper()"
      ],
      "metadata": {
        "colab": {
          "base_uri": "https://localhost:8080/",
          "height": 36
        },
        "id": "OtJre9zBL2AQ",
        "outputId": "9e4a8bcd-c00a-462b-848c-16a9535d9e82"
      },
      "execution_count": null,
      "outputs": [
        {
          "output_type": "execute_result",
          "data": {
            "text/plain": [
              "'INDIAROCKS'"
            ],
            "application/vnd.google.colaboratory.intrinsic+json": {
              "type": "string"
            }
          },
          "metadata": {},
          "execution_count": 8
        }
      ]
    },
    {
      "cell_type": "code",
      "source": [
        "def mystery(s):\n",
        "  i = len(s)//2\n",
        "  a = s[:i]\n",
        "  b = s[i:]\n",
        "  return a.upper() + b.lower()"
      ],
      "metadata": {
        "id": "ayCUfJq1MOkm"
      },
      "execution_count": null,
      "outputs": []
    },
    {
      "cell_type": "code",
      "source": [
        "mystery(\"IndiaRocks\")"
      ],
      "metadata": {
        "colab": {
          "base_uri": "https://localhost:8080/",
          "height": 36
        },
        "id": "jAvpq6FXMo3y",
        "outputId": "170614ed-a4a5-4f8c-9a04-3efd8d39098f"
      },
      "execution_count": null,
      "outputs": [
        {
          "output_type": "execute_result",
          "data": {
            "text/plain": [
              "'INDIArocks'"
            ],
            "application/vnd.google.colaboratory.intrinsic+json": {
              "type": "string"
            }
          },
          "metadata": {},
          "execution_count": 20
        }
      ]
    },
    {
      "cell_type": "code",
      "source": [],
      "metadata": {
        "id": "RFrV34R0NdPD"
      },
      "execution_count": null,
      "outputs": []
    },
    {
      "cell_type": "markdown",
      "source": [
        "Problem Description\n",
        "\n",
        "You are given lowercase string (A) and you have to tell the count of vowels and consonants in it.\n",
        "Input 1:\n",
        "\n",
        "interviewbit\n",
        "Output 1:\n",
        "\n",
        "[5 7]\n"
      ],
      "metadata": {
        "id": "n2WORDMrWf-j"
      }
    },
    {
      "cell_type": "code",
      "source": [
        "class Solution:\n",
        "\n",
        "    def solve(self, A):\n",
        "        Vowels = [ \"a\", \"e\", \"i\", \"o\", \"u\" ]\n",
        "        count = 0\n",
        "        for i in A:\n",
        "            if i in Vowels:\n",
        "                count = count + 1\n",
        "            consonants = len(A) - count\n",
        "        return [count, consonants]"
      ],
      "metadata": {
        "id": "ct8ym--eWyUf"
      },
      "execution_count": null,
      "outputs": []
    },
    {
      "cell_type": "code",
      "source": [
        "a = \"Rroopesh\"\n",
        "a[::-1]"
      ],
      "metadata": {
        "colab": {
          "base_uri": "https://localhost:8080/",
          "height": 36
        },
        "id": "yqY3ZfSHW25d",
        "outputId": "02aae47a-dcaa-43e8-efc2-3f31648b56c7"
      },
      "execution_count": null,
      "outputs": [
        {
          "output_type": "execute_result",
          "data": {
            "text/plain": [
              "'hsepoorR'"
            ],
            "application/vnd.google.colaboratory.intrinsic+json": {
              "type": "string"
            }
          },
          "metadata": {},
          "execution_count": 27
        }
      ]
    },
    {
      "cell_type": "code",
      "source": [
        "# prompt: You have to return string which is reverse form of input string.\n",
        "\n",
        "def reverse_string(input_string):\n",
        "  \"\"\"Reverses the given string.\n",
        "\n",
        "  Args:\n",
        "    input_string: The string to reverse.\n",
        "\n",
        "  Returns:\n",
        "    The reversed string.\n",
        "  \"\"\"\n",
        "  return input_string[::-1]\n",
        "\n",
        "# Example usage:\n",
        "string_to_reverse = \"hello\"\n",
        "reversed_string = reverse_string(string_to_reverse)\n",
        "print(f\"The reversed string is: {reversed_string}\")"
      ],
      "metadata": {
        "id": "k7Cwz_ZscFlF"
      },
      "execution_count": null,
      "outputs": []
    },
    {
      "cell_type": "markdown",
      "source": [
        "**Formatting**"
      ],
      "metadata": {
        "id": "MgjtNrhbi9LY"
      }
    },
    {
      "cell_type": "code",
      "source": [
        "name = \"abdul\"\n",
        "age = 18\n",
        "print(f\"my name is {name} and my age is {age}\")"
      ],
      "metadata": {
        "colab": {
          "base_uri": "https://localhost:8080/"
        },
        "id": "j47byi70i5BZ",
        "outputId": "d5ef1a88-3ed5-4984-da07-a202e1a7dc9f"
      },
      "execution_count": null,
      "outputs": [
        {
          "output_type": "stream",
          "name": "stdout",
          "text": [
            "my name is abdul and my age is 18\n"
          ]
        }
      ]
    },
    {
      "cell_type": "code",
      "source": [
        "name = 'Emma Watson'\n",
        "age = 32\n",
        "print(\"Hey my name is {}, and my age is {}.\".format(age))"
      ],
      "metadata": {
        "colab": {
          "base_uri": "https://localhost:8080/",
          "height": 176
        },
        "id": "Mslvf-Cfj35I",
        "outputId": "01f9f05e-03b4-4f90-f203-57feb3108f76"
      },
      "execution_count": null,
      "outputs": [
        {
          "output_type": "error",
          "ename": "IndexError",
          "evalue": "Replacement index 1 out of range for positional args tuple",
          "traceback": [
            "\u001b[0;31m---------------------------------------------------------------------------\u001b[0m",
            "\u001b[0;31mIndexError\u001b[0m                                Traceback (most recent call last)",
            "\u001b[0;32m<ipython-input-29-ff7169d25eed>\u001b[0m in \u001b[0;36m<cell line: 3>\u001b[0;34m()\u001b[0m\n\u001b[1;32m      1\u001b[0m \u001b[0mname\u001b[0m \u001b[0;34m=\u001b[0m \u001b[0;34m'Emma Watson'\u001b[0m\u001b[0;34m\u001b[0m\u001b[0;34m\u001b[0m\u001b[0m\n\u001b[1;32m      2\u001b[0m \u001b[0mage\u001b[0m \u001b[0;34m=\u001b[0m \u001b[0;36m32\u001b[0m\u001b[0;34m\u001b[0m\u001b[0;34m\u001b[0m\u001b[0m\n\u001b[0;32m----> 3\u001b[0;31m \u001b[0mprint\u001b[0m\u001b[0;34m(\u001b[0m\u001b[0;34m\"Hey my name is {}, and my age is {}.\"\u001b[0m\u001b[0;34m.\u001b[0m\u001b[0mformat\u001b[0m\u001b[0;34m(\u001b[0m\u001b[0mage\u001b[0m\u001b[0;34m)\u001b[0m\u001b[0;34m)\u001b[0m\u001b[0;34m\u001b[0m\u001b[0;34m\u001b[0m\u001b[0m\n\u001b[0m",
            "\u001b[0;31mIndexError\u001b[0m: Replacement index 1 out of range for positional args tuple"
          ]
        }
      ]
    },
    {
      "cell_type": "markdown",
      "source": [
        "write your own custom function to get the number of characters in the given string without using len()"
      ],
      "metadata": {
        "id": "2clcWhEUi8Ut"
      }
    },
    {
      "cell_type": "code",
      "source": [
        "\n",
        "def get_lenth(s):\n",
        "    count = 0\n",
        "    for i in s:\n",
        "        count = count + 1\n",
        "    return count"
      ],
      "metadata": {
        "id": "Aw6QzL5ri8Ap"
      },
      "execution_count": null,
      "outputs": []
    },
    {
      "cell_type": "code",
      "source": [
        "get_lenth('Rroopesh Hari')"
      ],
      "metadata": {
        "colab": {
          "base_uri": "https://localhost:8080/"
        },
        "id": "XkPrw4fhoeBl",
        "outputId": "d07b5408-301c-4f33-dae0-9f5215f1907c"
      },
      "execution_count": null,
      "outputs": [
        {
          "output_type": "execute_result",
          "data": {
            "text/plain": [
              "13"
            ]
          },
          "metadata": {},
          "execution_count": 32
        }
      ]
    },
    {
      "cell_type": "code",
      "source": [
        "s = 'Rroopesh Hari'\n",
        "s.startswith('R')\n"
      ],
      "metadata": {
        "colab": {
          "base_uri": "https://localhost:8080/"
        },
        "id": "dUQ-P9z5qxpk",
        "outputId": "8d08765b-7d87-4be1-da6f-5e8d0ea47876"
      },
      "execution_count": null,
      "outputs": [
        {
          "output_type": "execute_result",
          "data": {
            "text/plain": [
              "True"
            ]
          },
          "metadata": {},
          "execution_count": 34
        }
      ]
    },
    {
      "cell_type": "code",
      "source": [
        "s.endswith('i')"
      ],
      "metadata": {
        "colab": {
          "base_uri": "https://localhost:8080/"
        },
        "id": "tjro6efosNDf",
        "outputId": "6e1b238a-7819-4fe1-9c4e-eaeeea8ea6f3"
      },
      "execution_count": null,
      "outputs": [
        {
          "output_type": "execute_result",
          "data": {
            "text/plain": [
              "True"
            ]
          },
          "metadata": {},
          "execution_count": 35
        }
      ]
    },
    {
      "cell_type": "markdown",
      "source": [
        "**Functions**"
      ],
      "metadata": {
        "id": "iGTvYu0Z5Iaz"
      }
    },
    {
      "cell_type": "code",
      "source": [
        "b = \" Rroopesh     \"\n",
        "b.strip()"
      ],
      "metadata": {
        "colab": {
          "base_uri": "https://localhost:8080/",
          "height": 36
        },
        "id": "6xT3ds5_c3q-",
        "outputId": "bbeb5bd2-7c01-43ec-cb42-b62bc6333056"
      },
      "execution_count": null,
      "outputs": [
        {
          "output_type": "execute_result",
          "data": {
            "text/plain": [
              "'Rroopesh'"
            ],
            "application/vnd.google.colaboratory.intrinsic+json": {
              "type": "string"
            }
          },
          "metadata": {},
          "execution_count": 1
        }
      ]
    },
    {
      "cell_type": "code",
      "source": [
        "b.lstrip()"
      ],
      "metadata": {
        "colab": {
          "base_uri": "https://localhost:8080/",
          "height": 36
        },
        "id": "6G49vzrV5Utf",
        "outputId": "07e0e9b1-1165-441a-fe49-6e2ee8687c97"
      },
      "execution_count": null,
      "outputs": [
        {
          "output_type": "execute_result",
          "data": {
            "text/plain": [
              "'Rroopesh     '"
            ],
            "application/vnd.google.colaboratory.intrinsic+json": {
              "type": "string"
            }
          },
          "metadata": {},
          "execution_count": 2
        }
      ]
    },
    {
      "cell_type": "code",
      "source": [
        "b.rstrip()"
      ],
      "metadata": {
        "colab": {
          "base_uri": "https://localhost:8080/",
          "height": 36
        },
        "id": "o5U_ZfAQ5Wji",
        "outputId": "aa4c058c-11ac-4e5f-b4cb-3e2f4dba5a5a"
      },
      "execution_count": null,
      "outputs": [
        {
          "output_type": "execute_result",
          "data": {
            "text/plain": [
              "' Rroopesh'"
            ],
            "application/vnd.google.colaboratory.intrinsic+json": {
              "type": "string"
            }
          },
          "metadata": {},
          "execution_count": 4
        }
      ]
    },
    {
      "cell_type": "code",
      "source": [
        "s = \"rroopesh\"\n",
        "s.title()"
      ],
      "metadata": {
        "colab": {
          "base_uri": "https://localhost:8080/",
          "height": 36
        },
        "id": "l1Io633T5dHB",
        "outputId": "644997cd-407e-4119-cb7d-1240602f05f2"
      },
      "execution_count": null,
      "outputs": [
        {
          "output_type": "execute_result",
          "data": {
            "text/plain": [
              "'Rroopesh'"
            ],
            "application/vnd.google.colaboratory.intrinsic+json": {
              "type": "string"
            }
          },
          "metadata": {},
          "execution_count": 5
        }
      ]
    },
    {
      "cell_type": "code",
      "source": [
        "s.lower()\n",
        "s.upper()"
      ],
      "metadata": {
        "colab": {
          "base_uri": "https://localhost:8080/",
          "height": 36
        },
        "id": "QAwItXFi5n_0",
        "outputId": "0f08ccc0-2e43-4e70-f5ce-961340e86078"
      },
      "execution_count": null,
      "outputs": [
        {
          "output_type": "execute_result",
          "data": {
            "text/plain": [
              "'RROOPESH'"
            ],
            "application/vnd.google.colaboratory.intrinsic+json": {
              "type": "string"
            }
          },
          "metadata": {},
          "execution_count": 6
        }
      ]
    },
    {
      "cell_type": "markdown",
      "source": [
        "**In Operator**"
      ],
      "metadata": {
        "id": "8xKVviFx5zAR"
      }
    },
    {
      "cell_type": "code",
      "source": [
        "s ='abcdef'\n",
        "'bc' in s"
      ],
      "metadata": {
        "colab": {
          "base_uri": "https://localhost:8080/"
        },
        "id": "VLl9s5Tv5yfu",
        "outputId": "af4d1d98-18cd-491a-8e0f-32dc81353860"
      },
      "execution_count": null,
      "outputs": [
        {
          "output_type": "execute_result",
          "data": {
            "text/plain": [
              "True"
            ]
          },
          "metadata": {},
          "execution_count": 7
        }
      ]
    },
    {
      "cell_type": "code",
      "source": [
        "n = 'rroopesh'\n",
        "s in n"
      ],
      "metadata": {
        "colab": {
          "base_uri": "https://localhost:8080/"
        },
        "id": "DyNl9yWQ5w3q",
        "outputId": "d8d97481-9c76-4a5a-ade8-cf9d17656e9b"
      },
      "execution_count": null,
      "outputs": [
        {
          "output_type": "execute_result",
          "data": {
            "text/plain": [
              "False"
            ]
          },
          "metadata": {},
          "execution_count": 10
        }
      ]
    },
    {
      "cell_type": "code",
      "source": [
        "q = ['a', 'b', 'c', 'e', 'f']\n",
        "q in n"
      ],
      "metadata": {
        "colab": {
          "base_uri": "https://localhost:8080/",
          "height": 158
        },
        "id": "-QFZj0yPBUew",
        "outputId": "6dc67ceb-04e3-4a94-f2dd-7475a750f6e9"
      },
      "execution_count": null,
      "outputs": [
        {
          "output_type": "error",
          "ename": "TypeError",
          "evalue": "'in <string>' requires string as left operand, not list",
          "traceback": [
            "\u001b[0;31m---------------------------------------------------------------------------\u001b[0m",
            "\u001b[0;31mTypeError\u001b[0m                                 Traceback (most recent call last)",
            "\u001b[0;32m<ipython-input-12-0222c91af74d>\u001b[0m in \u001b[0;36m<cell line: 2>\u001b[0;34m()\u001b[0m\n\u001b[1;32m      1\u001b[0m \u001b[0mq\u001b[0m \u001b[0;34m=\u001b[0m \u001b[0;34m[\u001b[0m\u001b[0;34m'a'\u001b[0m\u001b[0;34m,\u001b[0m \u001b[0;34m'b'\u001b[0m\u001b[0;34m,\u001b[0m \u001b[0;34m'c'\u001b[0m\u001b[0;34m,\u001b[0m \u001b[0;34m'e'\u001b[0m\u001b[0;34m,\u001b[0m \u001b[0;34m'f'\u001b[0m\u001b[0;34m]\u001b[0m\u001b[0;34m\u001b[0m\u001b[0;34m\u001b[0m\u001b[0m\n\u001b[0;32m----> 2\u001b[0;31m \u001b[0mq\u001b[0m \u001b[0;32min\u001b[0m \u001b[0mn\u001b[0m\u001b[0;34m\u001b[0m\u001b[0;34m\u001b[0m\u001b[0m\n\u001b[0m",
            "\u001b[0;31mTypeError\u001b[0m: 'in <string>' requires string as left operand, not list"
          ]
        }
      ]
    },
    {
      "cell_type": "code",
      "source": [
        "'oo' in n"
      ],
      "metadata": {
        "colab": {
          "base_uri": "https://localhost:8080/"
        },
        "id": "LM7DNxEsBpiJ",
        "outputId": "cfee634d-a6eb-4f69-e1b1-468a105ec920"
      },
      "execution_count": null,
      "outputs": [
        {
          "output_type": "execute_result",
          "data": {
            "text/plain": [
              "True"
            ]
          },
          "metadata": {},
          "execution_count": 13
        }
      ]
    },
    {
      "cell_type": "code",
      "source": [
        "'a' in q"
      ],
      "metadata": {
        "colab": {
          "base_uri": "https://localhost:8080/"
        },
        "id": "M1j_H0uOBtbi",
        "outputId": "6c4fe9a4-6537-460f-d546-6307965292fd"
      },
      "execution_count": null,
      "outputs": [
        {
          "output_type": "execute_result",
          "data": {
            "text/plain": [
              "True"
            ]
          },
          "metadata": {},
          "execution_count": 14
        }
      ]
    },
    {
      "cell_type": "markdown",
      "source": [
        "**Index**"
      ],
      "metadata": {
        "id": "lu3WKbE_CIUZ"
      }
    },
    {
      "cell_type": "code",
      "source": [
        "s = 'rroopesh'\n",
        "s.index('e')"
      ],
      "metadata": {
        "colab": {
          "base_uri": "https://localhost:8080/"
        },
        "id": "l19oQ4Q6CHcF",
        "outputId": "621be55b-ba19-4a4a-c9ad-4996799e129c"
      },
      "execution_count": null,
      "outputs": [
        {
          "output_type": "execute_result",
          "data": {
            "text/plain": [
              "5"
            ]
          },
          "metadata": {},
          "execution_count": 15
        }
      ]
    },
    {
      "cell_type": "markdown",
      "source": [],
      "metadata": {
        "id": "5w8yaslJDMs5"
      }
    },
    {
      "cell_type": "code",
      "source": [
        "def expand(x):\n",
        "  res = ''\n",
        "  for i in x:\n",
        "    res = res + i\n",
        "  return res*3"
      ],
      "metadata": {
        "id": "WN6Vplk1DMBR"
      },
      "execution_count": null,
      "outputs": []
    },
    {
      "cell_type": "code",
      "source": [
        "expand(['a', 'b', 'c'])"
      ],
      "metadata": {
        "colab": {
          "base_uri": "https://localhost:8080/",
          "height": 36
        },
        "id": "W8kdoUEbEdxp",
        "outputId": "33d61108-338d-47db-e0f7-67070745e58c"
      },
      "execution_count": null,
      "outputs": [
        {
          "output_type": "execute_result",
          "data": {
            "text/plain": [
              "'abcabcabc'"
            ],
            "application/vnd.google.colaboratory.intrinsic+json": {
              "type": "string"
            }
          },
          "metadata": {},
          "execution_count": 17
        }
      ]
    },
    {
      "cell_type": "code",
      "source": [
        "lst = ['a', 'b', 'c', 'd']\n",
        "for i in lst:\n",
        "  print(i, end = '')"
      ],
      "metadata": {
        "id": "dtjTU9pCEmAg",
        "colab": {
          "base_uri": "https://localhost:8080/"
        },
        "outputId": "8f5d2fc4-4509-4be0-968f-9d5ee51bedc0"
      },
      "execution_count": null,
      "outputs": [
        {
          "output_type": "stream",
          "name": "stdout",
          "text": [
            "abcd"
          ]
        }
      ]
    },
    {
      "cell_type": "code",
      "source": [
        "s = \"1 2 3 4 5\"\n",
        "s.split()"
      ],
      "metadata": {
        "colab": {
          "base_uri": "https://localhost:8080/"
        },
        "id": "Z682ucD_AOBx",
        "outputId": "0b650f4a-f339-4c65-875c-77de8b8a2ac5"
      },
      "execution_count": null,
      "outputs": [
        {
          "output_type": "execute_result",
          "data": {
            "text/plain": [
              "['1', '2', '3', '4', '5']"
            ]
          },
          "metadata": {},
          "execution_count": 3
        }
      ]
    },
    {
      "cell_type": "code",
      "source": [
        "ls = \"1,2,3,4,5\"\n",
        "ls.split()\n",
        "#It will take space as the seportor"
      ],
      "metadata": {
        "colab": {
          "base_uri": "https://localhost:8080/"
        },
        "id": "CFufUHawAWow",
        "outputId": "848e25f2-66d1-4958-8674-c9cddb89a2b4"
      },
      "execution_count": null,
      "outputs": [
        {
          "output_type": "execute_result",
          "data": {
            "text/plain": [
              "['1,2,3,4,5']"
            ]
          },
          "metadata": {},
          "execution_count": 4
        }
      ]
    },
    {
      "cell_type": "code",
      "source": [
        "# list of string\n",
        "l = ['1','2','3','4','5']\n",
        "''.join(l)"
      ],
      "metadata": {
        "colab": {
          "base_uri": "https://localhost:8080/",
          "height": 36
        },
        "id": "X7_XLXuTAdgc",
        "outputId": "9a094c9e-ff10-44e2-decf-f8b601dc1313"
      },
      "execution_count": null,
      "outputs": [
        {
          "output_type": "execute_result",
          "data": {
            "text/plain": [
              "'12345'"
            ],
            "application/vnd.google.colaboratory.intrinsic+json": {
              "type": "string"
            }
          },
          "metadata": {},
          "execution_count": 5
        }
      ]
    },
    {
      "cell_type": "code",
      "source": [
        "# list of string\n",
        "l = ['1','2','3','4','5']\n",
        "','.join(l)"
      ],
      "metadata": {
        "colab": {
          "base_uri": "https://localhost:8080/",
          "height": 36
        },
        "id": "FzV1pNzDA4yu",
        "outputId": "74fe9e50-d760-458c-bd30-fa8f93d84169"
      },
      "execution_count": null,
      "outputs": [
        {
          "output_type": "execute_result",
          "data": {
            "text/plain": [
              "'1,2,3,4,5'"
            ],
            "application/vnd.google.colaboratory.intrinsic+json": {
              "type": "string"
            }
          },
          "metadata": {},
          "execution_count": 6
        }
      ]
    },
    {
      "cell_type": "markdown",
      "source": [
        "isdigit()\n",
        "checking the string or char is uppercase or lowercase will give true or Falase"
      ],
      "metadata": {
        "id": "xKjEoPQ2B8g-"
      }
    },
    {
      "cell_type": "markdown",
      "source": [
        "Count the digits present in the string"
      ],
      "metadata": {
        "id": "G_vIWZn0EgsN"
      }
    },
    {
      "cell_type": "code",
      "source": [
        "s = '1ajsdh9cfakjf6hajn3cmasnc4n6bzmcnm7dasncv7ns6'\n",
        "count = 0\n",
        "for i in s:\n",
        "  if i.isdigit():\n",
        "    count = count+1\n",
        "print(count)"
      ],
      "metadata": {
        "colab": {
          "base_uri": "https://localhost:8080/"
        },
        "id": "1XD6IDzOB7Gi",
        "outputId": "55ca3048-610c-4b0a-92c1-4e52f3558725"
      },
      "execution_count": null,
      "outputs": [
        {
          "output_type": "stream",
          "name": "stdout",
          "text": [
            "9\n"
          ]
        }
      ]
    },
    {
      "cell_type": "markdown",
      "source": [
        "Convert uppercase to lowercase without using lower() method"
      ],
      "metadata": {
        "id": "c-3QH7YAFEp7"
      }
    },
    {
      "cell_type": "code",
      "source": [
        "s = 'InDia'\n",
        "res = ''\n",
        "for i in s:\n",
        "  if i.isupper():\n",
        "    res = res + chr(ord(i) + 32)\n",
        "  else:\n",
        "    res = res + i\n",
        "print(res)\n",
        "\n"
      ],
      "metadata": {
        "id": "O_Guj0-wE9BT"
      },
      "execution_count": null,
      "outputs": []
    },
    {
      "cell_type": "code",
      "source": [
        "# prompt: class Solution:\n",
        "#     # @param A : string\n",
        "#     # @param B : integer\n",
        "#     # @return an integer\n",
        "#     def solve(self, A, B):\n",
        "#         count = 0\n",
        "#         for i in A:\n",
        "#             if i.char(ord(i)) == B:\n",
        "#                 count = count + 1\n",
        "#             else:\n",
        "#                 return -1\n",
        "# You are given a character string A, having length N and an integer ASCII code B.\n",
        "# You have to tell the leftmost occurrence of the character having ASCII code equal to B, in A or report that it does not exist.\n",
        "\n",
        "def count_lines(filename):\n",
        "  \"\"\"Counts the number of lines in a file.\n",
        "\n",
        "  Args:\n",
        "    filename: The path to the file.\n",
        "\n",
        "  Returns:\n",
        "    The number of lines in the file.\n",
        "  \"\"\"\n",
        "  try:\n",
        "    with open(filename, 'r') as file:\n",
        "      line_count = 0\n",
        "      for line in file:\n",
        "        line_count += 1\n",
        "      return line_count\n",
        "  except FileNotFoundError:\n",
        "    print(f\"Error: File not found '{filename}'\")\n",
        "    return 0\n",
        "\n",
        "# Example usage:\n",
        "filename = 'filename.txt'\n",
        "line_count = count_lines(filename)\n",
        "print(f\"The file '{filename}' has {line_count} lines.\")"
      ],
      "metadata": {
        "id": "EFOMXsvFTl5w"
      },
      "execution_count": null,
      "outputs": []
    },
    {
      "cell_type": "code",
      "source": [
        "A = 'abcdaaaaaa'\n",
        "B = 97\n",
        "count = 0\n",
        "for i in A:\n",
        "  if ord(i) == B:\n",
        "    count = count + 1\n",
        "  else:\n",
        "    print(-1)\n",
        "print(count)"
      ],
      "metadata": {
        "colab": {
          "base_uri": "https://localhost:8080/"
        },
        "id": "aup3GtnfGhoY",
        "outputId": "39017cd4-80e9-4a2f-cffc-85a8b90d76e5"
      },
      "execution_count": null,
      "outputs": [
        {
          "output_type": "stream",
          "name": "stdout",
          "text": [
            "-1\n",
            "-1\n",
            "-1\n",
            "7\n"
          ]
        }
      ]
    },
    {
      "cell_type": "code",
      "source": [
        "# prompt: return -1 only if there is no string exisit in A when comparing with B\n",
        "\n",
        "A = 'abcdaaaaaa'\n",
        "B = 'a'\n",
        "if B in A:\n",
        "  print(1)\n",
        "else:\n",
        "  print(-1)"
      ],
      "metadata": {
        "colab": {
          "base_uri": "https://localhost:8080/"
        },
        "id": "fiegJyRMIUXO",
        "outputId": "9a70fc90-4283-4e76-d338-4124efc0541e"
      },
      "execution_count": null,
      "outputs": [
        {
          "output_type": "stream",
          "name": "stdout",
          "text": [
            "1\n"
          ]
        }
      ]
    },
    {
      "cell_type": "code",
      "source": [
        "# prompt: print ascii code of a character\n",
        "\n",
        "# problem : given a string , print ascii value of each character\n",
        "name = \"jeffthomasan\"\n",
        "for i in name:\n",
        "    print( i,\"\\t\", ord(i))"
      ],
      "metadata": {
        "colab": {
          "base_uri": "https://localhost:8080/"
        },
        "id": "JbmTemN3I8ou",
        "outputId": "199493ba-5d66-4fd5-ae8a-406623399c44"
      },
      "execution_count": null,
      "outputs": [
        {
          "output_type": "stream",
          "name": "stdout",
          "text": [
            "j \t 106\n",
            "e \t 101\n",
            "f \t 102\n",
            "f \t 102\n",
            "t \t 116\n",
            "h \t 104\n",
            "o \t 111\n",
            "m \t 109\n",
            "a \t 97\n",
            "s \t 115\n",
            "a \t 97\n",
            "n \t 110\n"
          ]
        }
      ]
    },
    {
      "cell_type": "code",
      "source": [
        "# prompt: If there exists an occurrence, return the leftmost index(0 - based), else return -1.\n",
        "# Input 1:\n",
        "#  A = \"aabbcc\"\n",
        "#  B = 98\n",
        "# Input 2:\n",
        "#  A = \"abc\"\n",
        "#  B = 100\n",
        "# Example Output\n",
        "# Output 1:\n",
        "#  2\n",
        "# Output 2:\n",
        "#  -1\n",
        "\n",
        "def leftmost_index(A, B):\n",
        "  \"\"\"\n",
        "  Finds the leftmost index of a character in a string.\n",
        "\n",
        "  Args:\n",
        "    A: The input string.\n",
        "    B: The character to search for.\n",
        "\n",
        "  Returns:\n",
        "    The leftmost index of the character in the string, or -1 if not found.\n",
        "  \"\"\"\n",
        "  try:\n",
        "    return A.index(chr(B))\n",
        "  except ValueError:\n",
        "    return -1\n",
        "\n",
        "\n",
        "# Example usage:\n",
        "A1 = \"aabbcc\"\n",
        "B1 = 98\n",
        "result1 = leftmost_index(A1, B1)\n",
        "print(f\"Output 1:\\n{result1}\")\n",
        "\n",
        "A2 = \"abc\"\n",
        "B2 = 100\n",
        "result2 = leftmost_index(A2, B2)\n",
        "print(f\"Output 2:\\n{result2}\")"
      ],
      "metadata": {
        "colab": {
          "base_uri": "https://localhost:8080/"
        },
        "id": "06WKgKorsuIQ",
        "outputId": "e9d47df6-33e6-464f-a437-2bfc4b4545f8"
      },
      "execution_count": null,
      "outputs": [
        {
          "output_type": "stream",
          "name": "stdout",
          "text": [
            "Output 1:\n",
            "2\n",
            "Output 2:\n",
            "-1\n"
          ]
        }
      ]
    },
    {
      "cell_type": "code",
      "source": [
        "A = 'abcdaaaaaa'\n",
        "B = 97\n",
        "count = 0\n",
        "for i in A:\n",
        "  if ord(i) == B:\n",
        "    count = count + 1\n",
        "  else:\n",
        "print(count)"
      ],
      "metadata": {
        "colab": {
          "base_uri": "https://localhost:8080/",
          "height": 106
        },
        "collapsed": true,
        "id": "fBXa-VkAH5T6",
        "outputId": "08059427-2951-471a-a18a-41d97306e080"
      },
      "execution_count": null,
      "outputs": [
        {
          "output_type": "error",
          "ename": "IndentationError",
          "evalue": "expected an indented block after 'else' statement on line 7 (<ipython-input-11-3a3685dc89c3>, line 8)",
          "traceback": [
            "\u001b[0;36m  File \u001b[0;32m\"<ipython-input-11-3a3685dc89c3>\"\u001b[0;36m, line \u001b[0;32m8\u001b[0m\n\u001b[0;31m    print(count)\u001b[0m\n\u001b[0m                ^\u001b[0m\n\u001b[0;31mIndentationError\u001b[0m\u001b[0;31m:\u001b[0m expected an indented block after 'else' statement on line 7\n"
          ]
        }
      ]
    },
    {
      "cell_type": "code",
      "source": [
        "n = int(input()) # int\n",
        "x = input() # string\n",
        "l = x.split() # gives in list ['1','2'...]\n",
        "res = []\n",
        "for i in l:\n",
        "  res.append(int(i))\n",
        "print(res)"
      ],
      "metadata": {
        "colab": {
          "base_uri": "https://localhost:8080/"
        },
        "id": "f1hwqvfynww2",
        "outputId": "f685474e-1e52-4c2a-b00f-5c79ebb86c96"
      },
      "execution_count": null,
      "outputs": [
        {
          "output_type": "stream",
          "name": "stdout",
          "text": [
            "1234\n",
            "1234\n",
            "[1234]\n"
          ]
        }
      ]
    },
    {
      "cell_type": "markdown",
      "source": [
        "Problem : i want to get ['1','2','3', '4', '5']\n",
        "in output of [5, 1, 2, 3, 4, ]\n",
        "\n"
      ],
      "metadata": {
        "id": "uPnh5_pUqAu9"
      }
    },
    {
      "cell_type": "markdown",
      "source": [
        "Map function"
      ],
      "metadata": {
        "id": "RF0ZMFMQowjO"
      }
    },
    {
      "cell_type": "code",
      "source": [
        "x = input()\n",
        "l = x.split()\n",
        "res = list(map(int, l))\n",
        "print(l)\n",
        "print(res)"
      ],
      "metadata": {
        "colab": {
          "base_uri": "https://localhost:8080/"
        },
        "id": "KF0Zn6Zdoz3l",
        "outputId": "79829e6f-a55a-45ae-b5ec-33c03177d653"
      },
      "execution_count": null,
      "outputs": [
        {
          "output_type": "stream",
          "name": "stdout",
          "text": [
            "12345\n",
            "['12345']\n",
            "[12345]\n"
          ]
        }
      ]
    },
    {
      "cell_type": "code",
      "source": [
        "n = int(input())\n",
        "res = list(map(int, input().split()))\n",
        "last_ele = res.pop()\n",
        "print(last_ele)\n",
        "res.insert(0,last_ele)\n",
        "for i in res:\n",
        "  print(i, end = ' ')"
      ],
      "metadata": {
        "colab": {
          "base_uri": "https://localhost:8080/"
        },
        "id": "S0UccX03sXB9",
        "outputId": "f3fb8a16-2993-403d-836b-07b545f015ef"
      },
      "execution_count": null,
      "outputs": [
        {
          "output_type": "stream",
          "name": "stdout",
          "text": [
            "5\n",
            "12345\n",
            "12345\n",
            "12345 "
          ]
        }
      ]
    },
    {
      "cell_type": "code",
      "source": [
        "n = int(input())\n",
        "res = list(map(int,input().split()))\n",
        "a = res[-1:]+res[0:-1]\n",
        "for i in a:\n",
        "  print(i, end = ' ')"
      ],
      "metadata": {
        "colab": {
          "base_uri": "https://localhost:8080/"
        },
        "id": "SAOaRMJ5swgk",
        "outputId": "12641df9-143a-42a9-a05e-a883464348fe"
      },
      "execution_count": null,
      "outputs": [
        {
          "output_type": "stream",
          "name": "stdout",
          "text": [
            "4\n",
            "12345\n",
            "12345 "
          ]
        }
      ]
    },
    {
      "cell_type": "code",
      "source": [
        "n = int(input())  # Number of digits\n",
        "input_numbers = input()  # e.g., \"12345\"\n",
        "\n",
        "# Convert each character into an integer and form a list\n",
        "res = list(map(int, list(input_numbers)))\n",
        "\n",
        "# Rotate the list\n",
        "a = res[-1:] + res[:-1]\n",
        "\n",
        "# Print the result\n",
        "for i in a:\n",
        "    print(i, end='')\n",
        "\n"
      ],
      "metadata": {
        "colab": {
          "base_uri": "https://localhost:8080/"
        },
        "id": "6_TeJoGFjv74",
        "outputId": "196c2c8f-5eb5-4ed6-bde6-5bc5c31ffb8e"
      },
      "execution_count": null,
      "outputs": [
        {
          "output_type": "stream",
          "name": "stdout",
          "text": [
            "5\n",
            "12345\n",
            "51234"
          ]
        }
      ]
    },
    {
      "cell_type": "code",
      "source": [
        "n = int(input())  # Number of digits\n",
        "input_numbers = input()  # e.g., \"12345\"\n",
        "\n",
        "# Convert each character into an integer and form a list\n",
        "res = list(map(int, list(input_numbers)))\n",
        "for i in range(len(res)):\n",
        "  print(res[i-1],end = ' ')"
      ],
      "metadata": {
        "colab": {
          "base_uri": "https://localhost:8080/"
        },
        "id": "91zAMaw_py1_",
        "outputId": "b5f36308-cd2a-4655-eade-b423b195efb0"
      },
      "execution_count": null,
      "outputs": [
        {
          "output_type": "stream",
          "name": "stdout",
          "text": [
            "5\n",
            "12345\n",
            "5 1 2 3 4 "
          ]
        }
      ]
    },
    {
      "cell_type": "markdown",
      "source": [
        "2. First and last index\n",
        "\n",
        "A = [-2, -2, 4, 4, 8, 9]\n",
        "B = 4\n",
        "\n",
        "first index is 2 where is equal to 4. and Last index is 3 where last index 3 which has 4 ]\n",
        "\n",
        "Output = [2,3]\n",
        "\n",
        "\n",
        "---\n",
        "\n"
      ],
      "metadata": {
        "id": "gO4cxY3Lqpsp"
      }
    },
    {
      "cell_type": "code",
      "source": [
        "A = [1, 3, 5, 9, 10, 21, 9]\n",
        "B = 9\n",
        "res = []\n",
        "for i in range(len(A)):\n",
        "  if A[i] == B:\n",
        "    res.append(i)\n",
        "print(res)\n"
      ],
      "metadata": {
        "colab": {
          "base_uri": "https://localhost:8080/"
        },
        "id": "RB-Qk7JLqscC",
        "outputId": "94f61a5d-61ba-48b2-8403-73868400ee85"
      },
      "execution_count": null,
      "outputs": [
        {
          "output_type": "stream",
          "name": "stdout",
          "text": [
            "[3, 6]\n"
          ]
        }
      ]
    },
    {
      "cell_type": "markdown",
      "source": [
        "But if we have mutiple 9 and we need to print first and last of 9"
      ],
      "metadata": {
        "id": "u7_C90dSySLd"
      }
    },
    {
      "cell_type": "code",
      "source": [
        "def first_and_last_index(A, B)"
      ],
      "metadata": {
        "id": "SSw7w8-VyYPO"
      },
      "execution_count": null,
      "outputs": []
    },
    {
      "cell_type": "markdown",
      "source": [
        "Inverse of index element = [0,A)\n",
        "     0,1,2,3\n",
        "A = [3,1,0,2]\n",
        "     0,1,2,3\n",
        "B = [2,1,3,0]"
      ],
      "metadata": {
        "id": "iwGoOUucoOxT"
      }
    },
    {
      "cell_type": "markdown",
      "source": [
        "Shopping list items\n",
        "\n",
        "keep a track of items for shopping list\n",
        "programming should keep asking for new item input unitil \"end\" is entered print the full list at the end\n",
        "\n",
        "input :\n",
        "Notebooks\n",
        "shoes\n",
        "perfume\n",
        "shoes\n",
        "end\n",
        "output : ['Notebooks','shoes','perfume','shoes',]\n",
        "\n"
      ],
      "metadata": {
        "id": "Sn6gSOQepdJo"
      }
    },
    {
      "cell_type": "code",
      "source": [
        "shoplist = []\n",
        "while True:\n",
        "  item = input()\n",
        "  if item == 'end':\n",
        "    break\n",
        "  else:\n",
        "    shoplist.append(item)\n",
        "print(shoplist)"
      ],
      "metadata": {
        "colab": {
          "base_uri": "https://localhost:8080/"
        },
        "id": "yCf3-knPqIdG",
        "outputId": "d3e1d49e-5b15-4d59-cb21-ff159718cb41"
      },
      "execution_count": null,
      "outputs": [
        {
          "output_type": "stream",
          "name": "stdout",
          "text": [
            "a\n",
            "b\n",
            "\n",
            "c\n",
            "d\n",
            "end\n",
            "['a', 'b', '', 'c', 'd']\n"
          ]
        }
      ]
    },
    {
      "cell_type": "markdown",
      "source": [
        "given metrix is idenity metrix or not\n",
        "\n",
        "idenity metrix condition\n",
        "\n",
        "1. no of rows = no of columns\n",
        "2 diagonal element = 1\n",
        "3 non diaginal elemnt = 0\n",
        "\n",
        "So check wheather given matrix is idenity matrix or not"
      ],
      "metadata": {
        "id": "_2VfOP5FquBu"
      }
    },
    {
      "cell_type": "code",
      "source": [
        "def idenity_matrix(A):\n",
        "  R = len(A)\n",
        "  C = len(A[0])\n",
        "  for i in range(R):\n",
        "    for j in range(C):\n",
        "      if R != C:\n",
        "        return False\n",
        "      if i ==j and A[i][j] !=1:\n",
        "        return False\n",
        "      if i !=j and A[i][j] != 0:\n",
        "        return False\n",
        "  return True\n"
      ],
      "metadata": {
        "id": "P6jZc9y6pcVn"
      },
      "execution_count": null,
      "outputs": []
    },
    {
      "cell_type": "code",
      "source": [
        "idenity_matrix([[1,0,0],[0,1,0],[1,0,1]])"
      ],
      "metadata": {
        "colab": {
          "base_uri": "https://localhost:8080/"
        },
        "id": "Z_E1pAXhzbAn",
        "outputId": "94a0303e-b69e-417b-dae4-9caeea427ae8"
      },
      "execution_count": null,
      "outputs": [
        {
          "output_type": "execute_result",
          "data": {
            "text/plain": [
              "False"
            ]
          },
          "metadata": {},
          "execution_count": 30
        }
      ]
    },
    {
      "cell_type": "markdown",
      "source": [
        "Round the value of a real function of a number integer. Create a function for it"
      ],
      "metadata": {
        "id": "9K9_pRk_75GM"
      }
    },
    {
      "cell_type": "code",
      "source": [
        "import math\n",
        "def solve(A):\n",
        "  A/=200\n",
        "  if A>=0:\n",
        "    A+=0.5\n",
        "  else:\n"
      ],
      "metadata": {
        "id": "wN1YCmro8CCV"
      },
      "execution_count": null,
      "outputs": []
    },
    {
      "cell_type": "markdown",
      "source": [
        "Positive number\n",
        "\n",
        "6 -> 1,2,3 sum of the positive disvisors\n",
        "8-> 1,2,4 sum of / exlecute the number it self"
      ],
      "metadata": {
        "id": "Sl5aRQaeeyWJ"
      }
    },
    {
      "cell_type": "code",
      "source": [
        "def perfect_number(n):\n",
        "  sum = 0\n",
        "  for i in range(1,n): # 1 to n-1\n",
        "    if n % i == 0:\n",
        "      sum = sum + i\n",
        "  if sum == n:\n",
        "    return True\n",
        "  else:\n",
        "    return False"
      ],
      "metadata": {
        "id": "TZanVqEAfDJj"
      },
      "execution_count": null,
      "outputs": []
    },
    {
      "cell_type": "code",
      "source": [
        "perfect_number(6)"
      ],
      "metadata": {
        "colab": {
          "base_uri": "https://localhost:8080/"
        },
        "id": "iifoZu_KfOh4",
        "outputId": "4d0a41e9-6c88-4e2a-d62e-96f30927d4d9"
      },
      "execution_count": null,
      "outputs": [
        {
          "output_type": "execute_result",
          "data": {
            "text/plain": [
              "True"
            ]
          },
          "metadata": {},
          "execution_count": 2
        }
      ]
    },
    {
      "cell_type": "code",
      "source": [
        "perfect_number(7)"
      ],
      "metadata": {
        "colab": {
          "base_uri": "https://localhost:8080/"
        },
        "id": "qhk8yvm6fR3n",
        "outputId": "23dd13c8-9467-45f3-c04c-b8925dc78789"
      },
      "execution_count": null,
      "outputs": [
        {
          "output_type": "execute_result",
          "data": {
            "text/plain": [
              "False"
            ]
          },
          "metadata": {},
          "execution_count": 3
        }
      ]
    },
    {
      "cell_type": "markdown",
      "source": [
        "Pattern printing"
      ],
      "metadata": {
        "id": "FRkx1jVGfocO"
      }
    },
    {
      "cell_type": "code",
      "source": [
        "def star(n):\n",
        "  for i in range(1,n+1):\n",
        "    for j in range(i, n+1):\n",
        "      if i == j  or j==n or i==1:\n",
        "        print('*',end = ' ')\n",
        "      else:\n",
        "        print(' ',end = ' ')\n",
        "    print()\n"
      ],
      "metadata": {
        "id": "g3jz6v4NfoBR"
      },
      "execution_count": null,
      "outputs": []
    }
  ]
}